    "from morphocell.metrics import psnr, ssim, frc_resolution_difference\n",
    "\n",
    "For better performance, metric computation stops after the threshold is reached, which can make the difference when metric computation is a bottleneck (e.g., for FRC).\n",
    "We use fast GPU-based RL implementation from `flowdec` library [3]."
    "    metric_fn=psnr,\n",
    "    metric_fn=ssim,\n",
    "When visualized, SSIM shows reaching a plateau even before 10 iterations. This makes sense, because SSIM measures the perceived change in structural information, while PSNR estimates an absolute error."
    "    metric_threshold=-5.0,  # frc_resolution_difference returns improvement in nm\u2009it^\u22121\n",
}
