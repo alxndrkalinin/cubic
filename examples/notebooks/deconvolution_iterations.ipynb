{
 "cells": [
  {
   "cell_type": "code",
   "execution_count": 1,
   "metadata": {},
   "outputs": [
    {
     "ename": "ModuleNotFoundError",
     "evalue": "No module named 'pyvirtualdisplay'",
     "output_type": "error",
     "traceback": [
      "\u001b[0;31m---------------------------------------------------------------------------\u001b[0m",
      "\u001b[0;31mModuleNotFoundError\u001b[0m                       Traceback (most recent call last)",
      "\u001b[0;32m<ipython-input-1-b875af209c6b>\u001b[0m in \u001b[0;36m<module>\u001b[0;34m\u001b[0m\n\u001b[0;32m----> 1\u001b[0;31m \u001b[0;32mfrom\u001b[0m \u001b[0mmorphocell\u001b[0m\u001b[0;34m.\u001b[0m\u001b[0mpreprocessing\u001b[0m \u001b[0;32mimport\u001b[0m \u001b[0mdecon_iter_num_finder\u001b[0m\u001b[0;34m\u001b[0m\u001b[0;34m\u001b[0m\u001b[0m\n\u001b[0m\u001b[1;32m      2\u001b[0m \u001b[0;32mfrom\u001b[0m \u001b[0mmorphocell\u001b[0m\u001b[0;34m.\u001b[0m\u001b[0mmetrics\u001b[0m \u001b[0;32mimport\u001b[0m \u001b[0mgrid_crop_resolution\u001b[0m\u001b[0;34m,\u001b[0m \u001b[0mfrc_resolution_difference\u001b[0m\u001b[0;34m\u001b[0m\u001b[0;34m\u001b[0m\u001b[0m\n\u001b[1;32m      3\u001b[0m \u001b[0;34m\u001b[0m\u001b[0m\n\u001b[1;32m      4\u001b[0m from morphocell.image_utils import (\n\u001b[1;32m      5\u001b[0m     \u001b[0mmax_project\u001b[0m\u001b[0;34m,\u001b[0m \u001b[0mrescale_xy\u001b[0m\u001b[0;34m,\u001b[0m \u001b[0mrescale_isotropic\u001b[0m\u001b[0;34m,\u001b[0m \u001b[0mimg_mse\u001b[0m\u001b[0;34m,\u001b[0m \u001b[0mcrop_tl\u001b[0m\u001b[0;34m,\u001b[0m \u001b[0mcrop_bl\u001b[0m\u001b[0;34m,\u001b[0m \u001b[0mcrop_tr\u001b[0m\u001b[0;34m,\u001b[0m \u001b[0mcrop_br\u001b[0m\u001b[0;34m,\u001b[0m \u001b[0mcrop_center\u001b[0m\u001b[0;34m,\u001b[0m\u001b[0;34m\u001b[0m\u001b[0;34m\u001b[0m\u001b[0m\n",
      "\u001b[0;32m~/Projects/morphocell/morphocell/preprocessing/__init__.py\u001b[0m in \u001b[0;36m<module>\u001b[0;34m\u001b[0m\n\u001b[1;32m      1\u001b[0m \u001b[0;34m\"\"\"Expose preprocessing functions.\"\"\"\u001b[0m\u001b[0;34m\u001b[0m\u001b[0;34m\u001b[0m\u001b[0m\n\u001b[1;32m      2\u001b[0m \u001b[0;34m\u001b[0m\u001b[0m\n\u001b[0;32m----> 3\u001b[0;31m \u001b[0;32mfrom\u001b[0m \u001b[0;34m.\u001b[0m\u001b[0mdeconvolution\u001b[0m \u001b[0;32mimport\u001b[0m \u001b[0mrichardson_lucy_dl2\u001b[0m\u001b[0;34m,\u001b[0m \u001b[0mrichardson_lucy_flowdec\u001b[0m\u001b[0;34m,\u001b[0m \u001b[0mdecon_flowdec\u001b[0m\u001b[0;34m,\u001b[0m \u001b[0mdecon_iter_num_finder\u001b[0m\u001b[0;34m\u001b[0m\u001b[0;34m\u001b[0m\u001b[0m\n\u001b[0m\u001b[1;32m      4\u001b[0m \u001b[0;34m\u001b[0m\u001b[0m\n\u001b[1;32m      5\u001b[0m \u001b[0m__all__\u001b[0m \u001b[0;34m=\u001b[0m \u001b[0;34m[\u001b[0m\u001b[0;34m\"richardson_lucy_dl2\"\u001b[0m\u001b[0;34m,\u001b[0m \u001b[0;34m\"richardson_lucy_flowdec\"\u001b[0m\u001b[0;34m,\u001b[0m \u001b[0;34m\"decon_flowdec\"\u001b[0m\u001b[0;34m,\u001b[0m \u001b[0;34m\"decon_iter_num_finder\"\u001b[0m\u001b[0;34m]\u001b[0m\u001b[0;34m\u001b[0m\u001b[0;34m\u001b[0m\u001b[0m\n",
      "\u001b[0;32m~/Projects/morphocell/morphocell/preprocessing/deconvolution.py\u001b[0m in \u001b[0;36m<module>\u001b[0;34m\u001b[0m\n\u001b[1;32m      9\u001b[0m \u001b[0;34m\u001b[0m\u001b[0m\n\u001b[1;32m     10\u001b[0m \u001b[0;32mfrom\u001b[0m \u001b[0mskimage\u001b[0m \u001b[0;32mimport\u001b[0m \u001b[0mio\u001b[0m\u001b[0;34m\u001b[0m\u001b[0;34m\u001b[0m\u001b[0m\n\u001b[0;32m---> 11\u001b[0;31m \u001b[0;32mfrom\u001b[0m \u001b[0mpyvirtualdisplay\u001b[0m \u001b[0;32mimport\u001b[0m \u001b[0mDisplay\u001b[0m\u001b[0;34m\u001b[0m\u001b[0;34m\u001b[0m\u001b[0m\n\u001b[0m\u001b[1;32m     12\u001b[0m \u001b[0;34m\u001b[0m\u001b[0m\n\u001b[1;32m     13\u001b[0m \u001b[0;32mfrom\u001b[0m \u001b[0mflowdec\u001b[0m \u001b[0;32mimport\u001b[0m \u001b[0mdata\u001b[0m \u001b[0;32mas\u001b[0m \u001b[0mfd_data\u001b[0m\u001b[0;34m\u001b[0m\u001b[0;34m\u001b[0m\u001b[0m\n",
      "\u001b[0;31mModuleNotFoundError\u001b[0m: No module named 'pyvirtualdisplay'"
     ]
    }
   ],
   "source": [
    "from morphocell.preprocessing import decon_iter_num_finder\n",
    "from morphocell.metrics import grid_crop_resolution, frc_resolution_difference\n",
    "\n",
    "from morphocell.image_utils import (\n",
    "    max_project, rescale_xy, rescale_isotropic, img_mse, crop_tl, crop_bl, crop_tr, crop_br, crop_center,\n",
    "    pad_image_to_cube, pad_image, random_crop, get_xy_block_coords\n",
    ")\n",
    "\n",
    "from morphocell.plot_utils import show_2d, show_image, show_image_error"
   ]
  },
  {
   "cell_type": "code",
   "execution_count": null,
   "metadata": {},
   "outputs": [],
   "source": []
  }
 ],
 "metadata": {
  "kernelspec": {
   "display_name": "Python 3",
   "language": "python",
   "name": "python3"
  },
  "language_info": {
   "codemirror_mode": {
    "name": "ipython",
    "version": 3
   },
   "file_extension": ".py",
   "mimetype": "text/x-python",
   "name": "python",
   "nbconvert_exporter": "python",
   "pygments_lexer": "ipython3",
   "version": "3.8.5"
  }
 },
 "nbformat": 4,
 "nbformat_minor": 4
}
